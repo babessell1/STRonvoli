{
 "cells": [
  {
   "cell_type": "code",
   "execution_count": 3,
   "metadata": {},
   "outputs": [],
   "source": [
    "import torch\n",
    "import numpy as np \n",
    "import pandas as pd \n",
    "import matplotlib.pyplot as plt\n",
    "from torchvision import datasets \n",
    "from torchvision.transforms import ToTensor\n",
    "from torch.utils.data import DataLoader, Subset\n",
    "from torch import nn\n",
    "from torch import optim\n",
    "device = torch.device('cuda' if torch.cuda.is_available() else 'cpu')\n",
    "import sys\n",
    "import STRDataset as dataset\n",
    "import os\n",
    "import time\n",
    "from Baseline_CNN import CNN"
   ]
  },
  {
   "cell_type": "code",
   "execution_count": 4,
   "metadata": {},
   "outputs": [],
   "source": [
    "ohe_dir = \"/nfs/turbo/dcmb-class/bioinf593/groups/group_05/STRonvoli/data/ohe/\"\n",
    "meta_file = \"/nfs/turbo/dcmb-class/bioinf593/groups/group_05/STRonvoli/data/metadata.tsv\""
   ]
  },
  {
   "cell_type": "code",
   "execution_count": 5,
   "metadata": {},
   "outputs": [],
   "source": [
    "dataset = dataset.STRDataset(ohe_dir, meta_file) \n",
    "meta = pd.read_csv(meta_file, sep = '\\t')\n",
    "test_indices = meta.index[meta[\"split\"] == 1]\n",
    "validset = Subset(dataset, test_indices)\n",
    "validloader = DataLoader(validset, batch_size = 64, shuffle=False)"
   ]
  },
  {
   "cell_type": "code",
   "execution_count": 47,
   "metadata": {},
   "outputs": [],
   "source": [
    "pos_count = 500\n",
    "meta_count = 79\n",
    "model = CNN(meta_count).to(device)\n",
    "\n",
    "checkpoint = torch.load('/nfs/turbo/dcmb-class/bioinf593/groups/group_05/STRonvoli/models/epoch-9-model.pth')\n",
    "model.load_state_dict(checkpoint['model_state_dict'])"
   ]
  },
  {
   "cell_type": "code",
   "execution_count": 48,
   "metadata": {},
   "outputs": [],
   "source": [
    "predictions = []\n",
    "labels = []\n",
    "with torch.no_grad():\n",
    "    model.eval()\n",
    "    for (Y,y,m) in validloader:\n",
    "        Y = Y.to(device)\n",
    "        y = y.to(device)\n",
    "        m = m.to(device)\n",
    "        Y = torch.transpose(Y,1,2)\n",
    "        Y = Y.float()\n",
    "        y = y.float()\n",
    "        y = torch.reshape(y, (y.size(dim=0),1))\n",
    "        m = m.float()\n",
    "        \n",
    "        prediction = model(Y,m)\n",
    "        predictions.extend(prediction.flatten().numpy())\n",
    "        labels.extend(y.flatten().numpy())"
   ]
  },
  {
   "cell_type": "code",
   "execution_count": 49,
   "metadata": {},
   "outputs": [
    {
     "data": {
      "text/plain": [
       "[<matplotlib.lines.Line2D at 0x152253128280>]"
      ]
     },
     "execution_count": 49,
     "metadata": {},
     "output_type": "execute_result"
    },
    {
     "data": {
      "image/png": "[encoded data removed]",
      "text/plain": [
       "<Figure size 640x480 with 1 Axes>"
      ]
     },
     "metadata": {},
     "output_type": "display_data"
    }
   ],
   "source": [
    "plt.plot(labels, predictions)"
   ]
  }
 ],
 "metadata": {
  "kernelspec": {
   "display_name": "regembed",
   "language": "python",
   "name": "python3"
  },
  "language_info": {
   "codemirror_mode": {
    "name": "ipython",
    "version": 3
   },
   "file_extension": ".py",
   "mimetype": "text/x-python",
   "name": "python",
   "nbconvert_exporter": "python",
   "pygments_lexer": "ipython3",
   "version": "3.9.17"
  }
 },
 "nbformat": 4,
 "nbformat_minor": 2
}
